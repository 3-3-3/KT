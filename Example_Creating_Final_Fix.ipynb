{
 "cells": [
  {
   "cell_type": "markdown",
   "id": "80fd81f6",
   "metadata": {},
   "source": [
    "This notebook will go through using some functions I wrote in KT.py to generate a final fixed csv from the Agate fixed populations. \n",
    "\n",
    "The Agate project is meant to produce populations of LISA binaries that include mass transferring systems, which have been excluded from other COSMIC galaxy populations. While the eventual goal is a whole galaxy population, right now we are working with 9 fixed populationis: 3 for the bulge, 3 for the thin disk, and 3 for the thick disk. It should be noted that this is not really representative because each component contains different amounts of mass! Specifically, the bulge has a mass of $8.9x10^9 M_{\\odot}$, the thin disk has a mass of $4.32x10^{10} M_{\\odot}$, and the thick disk has a mass of $1.44x10^{10} M_{\\odot}$. This is a problem for when we generate the full galaxy though–no big deal right now. \n",
    "\n",
    "The fixed populations are generated using cosmic-pop (https://cosmic-popsynth.github.io/docs/stable/fixedpop/index.html#inputs). Once installed, this can be run using:"
   ]
  },
  {
   "cell_type": "markdown",
   "id": "ccfc704d",
   "metadata": {},
   "source": [
    "cosmic-pop --inifile buildFiles/bulge_Params.ini --final-kstar1 10 12 --final-kstar2 10 12 -n 4"
   ]
  },
  {
   "cell_type": "markdown",
   "id": "7874f0c6",
   "metadata": {},
   "source": [
    "Where --inifile gives the path to a .ini file, which provides information for how binaries should be evolved, convergence information, sampling models, and filters. It also gives a random seed to be used: this should be changed each time cosmic-pop is run if we want different populations! Additionally, if we want to sample the stellar formation history correctly, we need to change SF_start (10000 for the bulge, 11000 for the thick disk, and 10000 for the thin disk) and SF_duration (1000 for the bulge, 1000 for the thick disk, and 10000 for the thin disk). The parameters --final-kstar1 and --final-kstar2 tell COSMIC a range of systems to keep: 10-12 keeps all the double white dwarf systems. Finally, -n tells COSMIC how many threads to used. I have found using four is the fastest on the Barnes 262 iMacs. \n",
    "\n",
    "Once the fixed populations have been generated, we want to concat them together. I have saved them on my computer in the directory Agate/Fixed_Pops, which has the subdirectories Bulge, thinDisk, and thickDisk. While any Fixed_Pop directory may be passed to KT.csv_from_fix_pops and KT.final_csv_from_fixe_pops, the subdirectory structure and names are assumed."
   ]
  },
  {
   "cell_type": "code",
   "execution_count": 18,
   "id": "59abb40d",
   "metadata": {},
   "outputs": [],
   "source": [
    "import os \n",
    "import KT \n",
    "import time"
   ]
  },
  {
   "cell_type": "code",
   "execution_count": 19,
   "id": "ffc09c53",
   "metadata": {},
   "outputs": [
    {
     "name": "stdout",
     "output_type": "stream",
     "text": [
      "Help on function csv_from_fix_pops in module KT:\n",
      "\n",
      "csv_from_fix_pops(base_dir, out_name='agate.csv')\n",
      "    Take as input a directory which contains sub directories 'Bulge', 'thickDisk', and 'thinDisk' which each contain one or more fixed pop .h5 files. Take the bcm df from each of these files, concat them all together, and save them to a csv!\n",
      "    \n",
      "    base_dir: directory in which the fixed subdirectories 'Bulge', 'thickDisk, and thinDisk' are stored\n",
      "    out_name: name of file to save to.\n",
      "    \n",
      "    Returns: nothing\n",
      "\n"
     ]
    }
   ],
   "source": [
    "help(KT.csv_from_fix_pops)"
   ]
  },
  {
   "cell_type": "code",
   "execution_count": 20,
   "id": "edda96bb",
   "metadata": {},
   "outputs": [
    {
     "name": "stdout",
     "output_type": "stream",
     "text": [
      "Help on function final_csv_from_fix_pops in module KT:\n",
      "\n",
      "final_csv_from_fix_pops(base_dir, out_name='final_agate.csv')\n",
      "    Similar to csv_from fix_pops, except uses the get_final_fix function instead of the bcm df for the fixed populations. This will take longer to run, but include information about the final evol_type.\n",
      "    \n",
      "    base_dir: directory in which the fixed subdirectories 'Bulge', 'thickDisk, and thinDisk' are stored\n",
      "    out_name: name of file to save to.\n",
      "    \n",
      "    Returns: nothing\n",
      "\n"
     ]
    }
   ],
   "source": [
    "help(KT.final_csv_from_fix_pops)"
   ]
  },
  {
   "cell_type": "code",
   "execution_count": 21,
   "id": "ae54373e",
   "metadata": {},
   "outputs": [
    {
     "name": "stdout",
     "output_type": "stream",
     "text": [
      "Took: 30.271596908569336 seconds to run!\n"
     ]
    }
   ],
   "source": [
    "#So, we can use either one of these. Lets use final_csv_from_fix_pops\n",
    "fix_dir = os.path.join('Agate', 'Fixed_Pops')\n",
    "t = time.time()\n",
    "KT.final_csv_from_fix_pops(fix_dir)\n",
    "print(f'Took: {time.time() - t} seconds to run!')"
   ]
  },
  {
   "cell_type": "markdown",
   "id": "31487fee",
   "metadata": {},
   "source": [
    "Well that was not very long after all... but for a galaxy worth of fixed populations, we might expect to run into trouble!"
   ]
  }
 ],
 "metadata": {
  "kernelspec": {
   "display_name": "Python 3 (ipykernel)",
   "language": "python",
   "name": "python3"
  },
  "language_info": {
   "codemirror_mode": {
    "name": "ipython",
    "version": 3
   },
   "file_extension": ".py",
   "mimetype": "text/x-python",
   "name": "python",
   "nbconvert_exporter": "python",
   "pygments_lexer": "ipython3",
   "version": "3.10.9"
  }
 },
 "nbformat": 4,
 "nbformat_minor": 5
}
